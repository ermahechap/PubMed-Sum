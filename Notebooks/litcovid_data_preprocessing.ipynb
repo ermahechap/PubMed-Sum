{
 "cells": [
  {
   "cell_type": "code",
   "execution_count": 9,
   "metadata": {
    "colab": {},
    "colab_type": "code",
    "executionInfo": {
     "elapsed": 838,
     "status": "ok",
     "timestamp": 1592669054535,
     "user": {
      "displayName": "Edwin Ricardo Mahecha Parra",
      "photoUrl": "https://lh3.googleusercontent.com/a-/AOh14GjKs4KPyNQqmpmC7pcq3zq3nJZbebS0dO1DQBoJVQ=s64",
      "userId": "01257253051927415446"
     },
     "user_tz": 300
    },
    "id": "cBlD4w0WEjtV"
   },
   "outputs": [],
   "source": [
    "import json\n",
    "import numpy as np"
   ]
  },
  {
   "cell_type": "code",
   "execution_count": 2,
   "metadata": {
    "colab": {
     "base_uri": "https://localhost:8080/",
     "height": 124
    },
    "colab_type": "code",
    "executionInfo": {
     "elapsed": 25902,
     "status": "ok",
     "timestamp": 1592668675691,
     "user": {
      "displayName": "Edwin Ricardo Mahecha Parra",
      "photoUrl": "https://lh3.googleusercontent.com/a-/AOh14GjKs4KPyNQqmpmC7pcq3zq3nJZbebS0dO1DQBoJVQ=s64",
      "userId": "01257253051927415446"
     },
     "user_tz": 300
    },
    "id": "9sQdz1FmFCzb",
    "outputId": "5bb6ac2c-8005-4864-9e10-88831b4965fe"
   },
   "outputs": [
    {
     "name": "stdout",
     "output_type": "stream",
     "text": [
      "Go to this URL in a browser: https://accounts.google.com/o/oauth2/auth?client_id=947318989803-6bn6qk8qdgf4n4g3pfee6491hc0brc4i.apps.googleusercontent.com&redirect_uri=urn%3aietf%3awg%3aoauth%3a2.0%3aoob&response_type=code&scope=email%20https%3a%2f%2fwww.googleapis.com%2fauth%2fdocs.test%20https%3a%2f%2fwww.googleapis.com%2fauth%2fdrive%20https%3a%2f%2fwww.googleapis.com%2fauth%2fdrive.photos.readonly%20https%3a%2f%2fwww.googleapis.com%2fauth%2fpeopleapi.readonly\n",
      "\n",
      "Enter your authorization code:\n",
      "··········\n",
      "Mounted at /content/drive\n"
     ]
    }
   ],
   "source": [
    "from google.colab import drive\n",
    "drive.mount('/content/drive')"
   ]
  },
  {
   "cell_type": "code",
   "execution_count": 3,
   "metadata": {
    "colab": {},
    "colab_type": "code",
    "executionInfo": {
     "elapsed": 25904,
     "status": "ok",
     "timestamp": 1592668675699,
     "user": {
      "displayName": "Edwin Ricardo Mahecha Parra",
      "photoUrl": "https://lh3.googleusercontent.com/a-/AOh14GjKs4KPyNQqmpmC7pcq3zq3nJZbebS0dO1DQBoJVQ=s64",
      "userId": "01257253051927415446"
     },
     "user_tz": 300
    },
    "id": "XZEzPOylFKgW"
   },
   "outputs": [],
   "source": [
    "path = '/content/drive/Shared drives/NLP/Project NLP/Final/'"
   ]
  },
  {
   "cell_type": "markdown",
   "metadata": {
    "colab_type": "text",
    "id": "jqKvnxkqeeHM"
   },
   "source": [
    "# Open Document Extraction\n",
    "\n",
    "Here we we extract the files with pmcid which are the ones with the full text containied within the LitCovid database found [here](https://ftp.ncbi.nlm.nih.gov/pub/lu/LitCovid/)."
   ]
  },
  {
   "cell_type": "code",
   "execution_count": 4,
   "metadata": {
    "colab": {},
    "colab_type": "code",
    "executionInfo": {
     "elapsed": 709,
     "status": "ok",
     "timestamp": 1592668825751,
     "user": {
      "displayName": "Edwin Ricardo Mahecha Parra",
      "photoUrl": "https://lh3.googleusercontent.com/a-/AOh14GjKs4KPyNQqmpmC7pcq3zq3nJZbebS0dO1DQBoJVQ=s64",
      "userId": "01257253051927415446"
     },
     "user_tz": 300
    },
    "id": "UoXVUQrfEjt-"
   },
   "outputs": [],
   "source": [
    "def get_data_pmc(load=True):\n",
    "    if load:    \n",
    "        with open(path + 'pmc_data.json', 'r') as f:\n",
    "            data_pmc = json.load(f)\n",
    "    else: \n",
    "        filename = path + \"litcovid2pubtator.json\"\n",
    "        with open(filename) as json_file:\n",
    "            data = json.load(json_file)\n",
    "\n",
    "        total = len(data[1])\n",
    "        data_pmc = []\n",
    "\n",
    "        for i, doc in enumerate(data[1]):\n",
    "            if doc['pmcid']:\n",
    "                data_pmc.append(doc)\n",
    "            print(\"{}/{}\".format(i, total))\n",
    "        with open(path + 'pmc_data.json', 'w') as f:\n",
    "            json.dump(data_pmc, f)\n",
    "    \n",
    "    return data_pmc"
   ]
  },
  {
   "cell_type": "code",
   "execution_count": 7,
   "metadata": {
    "colab": {
     "base_uri": "https://localhost:8080/",
     "height": 34
    },
    "colab_type": "code",
    "executionInfo": {
     "elapsed": 13483,
     "status": "ok",
     "timestamp": 1592668912141,
     "user": {
      "displayName": "Edwin Ricardo Mahecha Parra",
      "photoUrl": "https://lh3.googleusercontent.com/a-/AOh14GjKs4KPyNQqmpmC7pcq3zq3nJZbebS0dO1DQBoJVQ=s64",
      "userId": "01257253051927415446"
     },
     "user_tz": 300
    },
    "id": "ssdpNYUNYnbj",
    "outputId": "9a1b0baf-eb5a-4911-a693-9b535d8505b6"
   },
   "outputs": [
    {
     "name": "stdout",
     "output_type": "stream",
     "text": [
      "Articles in the public set: 12457\n"
     ]
    }
   ],
   "source": [
    "data_pmc = get_data_pmc()\n",
    "print(\"Articles in the public set:\", len(data_pmc))"
   ]
  },
  {
   "cell_type": "markdown",
   "metadata": {
    "colab_type": "text",
    "id": "u328g3z1dyEn"
   },
   "source": [
    "Here we have all the passage types on our articles:"
   ]
  },
  {
   "cell_type": "code",
   "execution_count": 23,
   "metadata": {
    "colab": {
     "base_uri": "https://localhost:8080/",
     "height": 538
    },
    "colab_type": "code",
    "executionInfo": {
     "elapsed": 1200,
     "status": "ok",
     "timestamp": 1592669187596,
     "user": {
      "displayName": "Edwin Ricardo Mahecha Parra",
      "photoUrl": "https://lh3.googleusercontent.com/a-/AOh14GjKs4KPyNQqmpmC7pcq3zq3nJZbebS0dO1DQBoJVQ=s64",
      "userId": "01257253051927415446"
     },
     "user_tz": 300
    },
    "id": "XRl_x7G_kqu8",
    "outputId": "65629053-6fd6-4878-91ca-7e1dd1a3dbe6"
   },
   "outputs": [
    {
     "name": "stdout",
     "output_type": "stream",
     "text": [
      "# of Types: 27\n",
      "   COUNT - TYPE\n",
      "----------------\n",
      "   17649 - abstract\n",
      "   10042 - abstract_title_1\n",
      "    3925 - fig\n",
      "   13536 - fig_caption\n",
      "     918 - fig_title_caption\n",
      "   13564 - footnote\n",
      "      50 - footnote_title\n",
      "   12458 - front\n",
      "  207378 - paragraph\n",
      "  202816 - ref\n",
      "   10737 - table\n",
      "    7460 - table_caption\n",
      "    1786 - table_foot\n",
      "      32 - table_foot_title\n",
      "    6520 - table_footnote\n",
      "     573 - table_title_caption\n",
      "   16713 - title\n",
      "   34185 - title_1\n",
      "     161 - title_1_caption\n",
      "   20788 - title_2\n",
      "      77 - title_2_caption\n",
      "    3805 - title_3\n",
      "       6 - title_3_caption\n",
      "     419 - title_4\n",
      "       1 - title_4_caption\n",
      "      14 - title_5\n",
      "     123 - title_caption\n"
     ]
    }
   ],
   "source": [
    "# Get all passage types\n",
    "passage_types, type_counts = np.unique([p['infons']['type'] for doc in data_pmc for p in doc['passages']], return_counts=True)\n",
    "print(\"# of Types:\",len(passage_types))\n",
    "print(\"   COUNT - TYPE\\n----------------\")\n",
    "for i, j in zip(passage_types, type_counts):\n",
    "    print(\"{:8} - {}\".format(j,i))"
   ]
  },
  {
   "cell_type": "markdown",
   "metadata": {
    "colab_type": "text",
    "id": "UvywbHV8d2wi"
   },
   "source": [
    "With the passage types above we now know which ones to filter out like tables, figures, etc."
   ]
  },
  {
   "cell_type": "code",
   "execution_count": 113,
   "metadata": {
    "colab": {},
    "colab_type": "code",
    "executionInfo": {
     "elapsed": 1432,
     "status": "ok",
     "timestamp": 1592697217096,
     "user": {
      "displayName": "Edwin Ricardo Mahecha Parra",
      "photoUrl": "https://lh3.googleusercontent.com/a-/AOh14GjKs4KPyNQqmpmC7pcq3zq3nJZbebS0dO1DQBoJVQ=s64",
      "userId": "01257253051927415446"
     },
     "user_tz": 300
    },
    "id": "pRASRyPCeQu7"
   },
   "outputs": [],
   "source": [
    "whitelist = ['paragraph', 'title', 'title_1', 'title_1_caption', 'title_2',\n",
    "       'title_2_caption', 'title_3', 'title_3_caption', 'title_4',\n",
    "       'title_4_caption', 'title_5', 'title_caption']\n",
    "def get_text(doc):\n",
    "    text, title, abstract = \"\", \"\", \"\"\n",
    "    ids = (doc[\"pmid\"], doc[\"pmcid\"])\n",
    "    for passage in doc['passages']:\n",
    "        if passage['infons']['type'] in \"abstract_title_1\":\n",
    "            abstract += passage[\"text\"] + \"\\n\"\n",
    "        elif passage['infons']['type'] == \"front\":\n",
    "            title += passage[\"text\"]\n",
    "        elif passage['infons']['type'] in whitelist:\n",
    "            text += passage[\"text\"] + \"\\n\"\n",
    "    return title, abstract, text, ids"
   ]
  },
  {
   "cell_type": "code",
   "execution_count": 114,
   "metadata": {
    "colab": {
     "base_uri": "https://localhost:8080/",
     "height": 1000
    },
    "colab_type": "code",
    "executionInfo": {
     "elapsed": 903,
     "status": "ok",
     "timestamp": 1592697220540,
     "user": {
      "displayName": "Edwin Ricardo Mahecha Parra",
      "photoUrl": "https://lh3.googleusercontent.com/a-/AOh14GjKs4KPyNQqmpmC7pcq3zq3nJZbebS0dO1DQBoJVQ=s64",
      "userId": "01257253051927415446"
     },
     "user_tz": 300
    },
    "id": "hbxiZti9e3I0",
    "outputId": "c7bc57e3-881b-487c-c8ba-de848f623c32"
   },
   "outputs": [
    {
     "name": "stdout",
     "output_type": "stream",
     "text": [
      "Imbalanced Host Response to SARS-CoV-2 Drives Development of COVID-19\n",
      "Coronaviruses are a diverse group of single-stranded positive-sense RNA viruses with a wide range of vertebrate hosts. Four common coronavirus genera (alpha, beta, gamma, and delta) circulate among vertebrates and cause mild upper respiratory tract illnesses in humans and gastroenteritis in animals. However, in the past two decades, three highly pathogenic human betacoronaviruses have emerged from zoonotic events. In 2002-2003, severe acute respiratory syndrome-related coronavirus 1 (SARS-CoV-1) infected ~8,000 people worldwide with a case fatality rate of ~10%, followed by Middle East respiratory syndrome-related coronavirus (MERS-CoV), which has infected ~2,500 people with a case fatality rate of ~36% since 2012. At present, the world is suffering from a pandemic of SARS-CoV-2, which causes coronavirus disease 2019 (COVID-19) and has a global mortality rate that remains to be determined. SARS-CoV-2 infection is characterized by a range of symptoms including fever, cough, and general malaise in the majority of cases. More severe cases of COVID-19 develop acute respiratory distress syndrome and acute lung injury, leading to morbidity and mortality caused by damage to the alveolar lumen leading to inflammation and pneumonia.\n",
      "The physiological response to virus infection is generally initiated at the cellular level following replication. After virus entry, the infected cell detects the presence of virus replication through any one of a number of pattern recognition receptors (PRRs). These receptors serve as sentinels for a variety of microbes inside and outside of the cell by physically engaging distinct structures that are shared among different pathogens. In the case of virus infection, cellular detection of replication is largely mediated by a family of intracellular PRRs that sense aberrant RNA structures that often form during virus replication. Engagement of virus-specific RNA structures culminates in oligomerization of these receptors and activation of downstream transcription factors, most notably interferon regulator factors (IRFs) and nuclear factor kappaB (NF-kappaB). Transcriptional activation of IRFs and NF-kappaB results in the launch of two general antiviral programs. The first is engagement of cellular antiviral defenses, which is mediated by transcriptional induction of type I and III interferons (IFN-I and IFN-III, respectively) and subsequent upregulation of IFN-stimulated genes (ISGs). The second arm of the antiviral response involves recruitment and coordination of specific subsets of leukocytes, which is orchestrated primarily by chemokine secretion.\n",
      "This broad antiviral response puts selective pressure on viruses and has resulted in the evolution of countless viral countermeasures. Therefore, the host response to a virus is generally not uniform, and infections can inflict different degrees of morbidity and mortality. The current pandemic of COVID-19 is an acute and rapidly developing global health crisis. To better understand the molecular basis of the disease, we sought to characterize the transcriptional response to infection in a variety of model systems, including in vitro tissue culture, ex vivo infection of primary cells, and in vivo samples derived from COVID-19 patients and animals. We chose to characterize the transcriptional response to SARS-CoV-2 and determine how it compares with common respiratory viruses, including influenza A virus (IAV). These two respiratory viruses encode a variety of different antagonists to the IFN-I and -III response. For the closely related SARS-CoV-1, IFN antagonism has been attributed to ORF3B, ORF6, and the nucleocapsid (N) gene products. SARS-CoV-1 also encodes nsp1, a nuclease that has been implicated in cleaving host mRNA to prevent ribosomal loading and causing host shutoff. Similar to SARS-CoV-1, IAV also encodes the IFN-I and -III antagonist nonstructural protein 1 (NS1), which blocks initial detection by the PRR through binding and masking aberrant RNA produced during infection.\n",
      "Here we compare the transcriptional response of SARS-CoV-2 with other respiratory viruses to identify transcriptional signatures that may underlie COVID-19 biology. These data demonstrate that the overall transcriptional induction to SARS-CoV-2 is aberrant. Despite virus replication, the host response to SARS-CoV-2 fails to launch a robust IFN-I and -III response while simultaneously inducing high levels of chemokines needed to recruit effector cells. Because a waning immune response would enable sustained viral replication, these findings may explain why serious cases of COVID-19 are more frequently observed in individuals with comorbidities.\n",
      "Defining the Transcriptional Response to SARS-CoV-2 Relative to Other Respiratory Viruses\n",
      "To compare the transcriptional response of SARS-CoV-2 with other respiratory viruses, including MERS-CoV, SARS-CoV-1, human parainfluenza virus 3 (HPIV3), respiratory syncytial virus (RSV), and IAV, we first chose to focus on infection in a variety of respiratory cell lines (Figure 1 ). To this end, we collected poly(A) RNA from infected cells and performed RNA sequencing (RNA-seq) to estimate viral load. These data show that virus infection levels ranged from 0.1% to more than 50% of total RNA reads (Figure 1A). In agreement with others, we found A549 lung alveolar cells to be relatively non-permissive to SARS-CoV-2 replication, in contrast to Calu-3 cells (0.1% versus 15% total reads, respectively). The low rate of infection in A549 cells is postulated to be the result of low expression of the viral receptor ACE2. To bypass this restriction, we supplemented A549 cells with a vector expressing mCherry or ACE2 (Figures 1B-1D). In low-MOI infections (MOI, 0.2), exogenous expression of ACE2 enabled SARS-CoV-2 to replicate and comprise ~54% of the total reads mapping more than 300x coverage across the ~30-kb genome (Figures 1A and 1B). Western blot analyses corroborated these RNA-seq data, showing Nucleocapsid (N) expression only in cells supplemented with ACE2 (Figure 1C). Furthermore, qPCR analyses of these cells demonstrated that the levels of Envelope (E) and non-structural protein 14 (nsp14) were more than three orders of magnitude higher in the presence of ACE2 (Figure 1D). It is noteworthy that, despite this dramatic increase in viral load, we observed neither activation of TBK1, the kinase responsible for IFN-I and IFN-III expression, nor induction of STAT1 and MX1, IFN-I-stimulated genes (Figure S1 A). The lack of IFN-I and -III engagement in ACE2-expressing A549 cells could, however, be overcome by using a 10-fold increase in virus (MOI, 2) despite the fact that total viral reads after 24 h of replication where comparable with low-MOI conditions (Figures 1A, 1B, and 1F).\n",
      "To determine whether SARS-CoV-2 is sensitive to IFN-I, we next treated cells with universal IFNbeta and assessed viral levels at the RNA and protein levels (Figures S1B and S1C). These data demonstrate that addition of IFN-I resulted in a dramatic reduction in virus replication, in agreement with the findings of others. We also observed no increase in viral Spike levels (or a considerable effect on viral reads) when IFN-I signaling was blocked by addition of ruxolitinib, a JAK1 and 2 kinase inhibitor, despite significantly preventing induction of ISGs (Figures S1D-S1H). In contrast, ruxolitinib treatment had a minimal effect on induction of cytokines and chemokines, indicating that the high induction of these genes in SARS-CoV-2 infection is independent of IFN-I and -III signaling (Figure S1G).\n",
      "To next determine how each of these in vitro infections alters the host transcriptional landscape, we first performed a differential expression analysis, comparing infected cell conditions with their respective mock conditions. These analyses indicate that the transcriptional response in cells that allows high replication of SARS-CoV-2 is significantly different from the host response of all other viruses tested (Figure 1E). Moreover, SARS-CoV-2 infection in unmodified A549 cells shows a unique response compared with SARS-CoV-1 despite comparable levels of viral load (Figures 1A and 1E). Last, MERS-CoV infection, which approaches ~50% of total reads at 24 hours post-infection (hpi), clusters together with SARS-CoV-1 and IAV, reflecting an overall repression of the host antiviral response (Figures 1E and 1F). Conversely, HPIV3 and RSV comprise a unique cluster denoted by high expression of IFNs and ISGs (Figures 1E and 1F). Interestingly, low-MOI SARS-CoV-2-infected A549 cells expressing ACE2 (A549-ACE2) show no significant IFN-I or IFN-III expression but instead display moderate levels of a subset of ISGs and a unique proinflammatory cytokine signature (Figure 1F). This signature is also present in high-MOI infections of SARS-CoV-2 in A549-ACE2 and Calu-3 cells, together with more than 6,000 other differentially expressed genes, further explaining their extreme coordinates on the principal-component analysis (PCA) (Figures 1E and 1F; Table S1). Furthermore, high-MOI infection in these cells also led to high induction of IFNs and ISGs observed for HPIV3 and RSV, despite remarkable differences in viral replication (~60% total reads in A549-ACE2 cells compared with ~15% in Calu-3 cells) (Figures 1A and 1F). The discrepancy between the levels of viral replication and IFN production/signaling suggests that, although SARS-CoV-2 is capable of engaging the IFN-I and IFN-III systems, this response is prevented by an antagonist that is rendered ineffective under high-MOI conditions. Alternatively, these data may instead indicate that high-MOI conditions in cell culture result in formation of pathogen-associated molecular patterns (PAMPs), which may or may not reflect physiological conditions in vivo.\n",
      "SARS-CoV-2 in Primary Cells Induces a Limited IFN-I and III Response\n",
      "Given the disparate results of our in vitro cell culture systems, we next sought to determine how normal human bronchial epithelial (NHBE) cells respond to SARS-CoV-2 infection, in contrast to treatment with IFN-I alone or infection with wild-type (WT) IAV or a mutant IAV lacking its antiviral antagonist (IAVDeltaNS1) (Figure 2 ). Treatment of NHBE cells with IFN-I resulted in significant induction of 381 genes, most of these also differentially expressed in IAVDeltaNS1 infection, together outlining a robust innate immune response in these cells (Figure 2A). In contrast, and despite different levels of replication, the transcriptional response to infection with SARS-CoV-2 and WT IAV are similar in magnitude but different in nature, with only 8 shared significantly induced genes, including interleukin-6 (IL-6), IRF9, ICAM1, and tumor necrosis factor (TNF) (Figure 2A; Figure S2 A). To further understand the global host response as it pertained to each of these conditions, we grouped these samples in a PCA space (Figure 2B). This analysis shows progressive transcriptional perturbations along principal component one, which accounts for more than 60% of sample variation. In this space, SARS-CoV-2 elicits the most modest transcriptional changes, followed by IAV, IFNbeta treatment, and IAVDeltaNS1 (Figure 2B).\n",
      "Gene enrichment analyses of differentially expressed transcripts illustrate a diminished IFN-I signaling biology for SARS-CoV-2 and IAV infections (Figures 2C and 2D). In both examples, IFN-I and IFN-III are undetectable, but a very small subset of ISGs is induced (Figures 2C, 2D, and S2B; Table S2). In the case of IAV, this diminished antiviral response is mediated by expression of NS1 because IAVDeltaNS1 infections result in robust IFNB and IFNL1-3 induction (Figures 2C, 2D, and S2B; Table S2). Despite a complete lack of IFN expression, the response to SARS-CoV-2 in NHBE cells still elicited a strong chemotactic and inflammatory response, indicated by expression of CCL20, CXCL1, IL-1B, IL-6, CXCL3, CXCL5, CXCL6, CXCL2, CXCL16, and TNF (Figures 2C and 2E; Table S2). In addition to the modest IFN-I response, SARS-CoV-2 in NHBE cells also triggers some unique pathways, including a response to IFN-II (which is also observed in response to IAVDeltaNS1), and significant enrichment in chemokine signaling (Figure 2C).\n",
      "Longitudinal Ferret Studies Mirror the Imbalanced In Vitro Response to SARS-CoV-2\n",
      "To determine whether the limited response to SARS-CoV-2 observed so far was a by-product of cell culture, we next pursued an in vivo longitudinal study in animals. To this end, we chose to perform SARS-CoV-2 infections in ferrets because this has been described as an appropriate animal model. Ferrets were infected intranasally with SARS-CoV-2 or influenza A/California/04/2009 and monitored by nasal wash, which generates a small pellet of cells from the upper respiratory tract. RNA-seq was performed on these cells, enabling us to quantify viral load over time. Reads from nasal wash 1 day after infection revealed a low level of virus replication comprising 0.006% of total reads (Figure 3 A). Three days after infection, virus replication peaked at 1.2% of the total sequencing reads before decreasing to 0.05% of total reads on day 7 and completely clearing the virus by day 14 (Figure 3A). As a comparison, a sublethal infection of IAV comprised less than 0.03% of total reads on day 7 from the same sample type (Figure S3 A). The presence of virus in the nasal passage would further suggest that these ferrets had the potential to transmit the virus, in agreement with the findings of others.\n",
      "To characterize the response to SARS-CoV-2 over time, upper respiratory cell populations were compared with mock-treated ferrets. On day 1 after infection, we observed very little transcriptional difference correlating to the amount of virus detection at this time (Figure 3B). By day 3, we observed the beginning of a cytokine response marked by CCL8 and CXCL9, consistent with what was observed in cell culture. By day 7, despite waning levels of virus, the cytokine response continued to expand and included CCL2, CCL8, and CXCL9, among others (Figure 3B; Table S3). Moreover, we noted evidence of mixed leukocyte infiltration with significant upregulation in CD163, CD226, CCR5, CCR6, CXCR1, CXCR2, and CXCR7 (Figure 3C). Overall, the magnitude of this transcriptional response in the upper respiratory tract was significantly lower compared with a comparable IAV infection (Figure S3B). However, although IAV induces a greater number of genes, SARS-CoV-2 generates a unique gene signature enriched for cell death and leukocyte activation, including transcripts such as IL1A and CXCL8 (GO: 0008219 and GO: 0045431; Table S3). In contrast, the transcriptional footprint of IAV as it pertains to the cellular antiviral response was strikingly greater in magnitude than that observed for SARS-CoV-2 and included the IFN signature genes MX1, ISG20, OASL, and Tetherin (Figure S3B; Table S3). By day 14, we detected no viral reads for SARS-CoV-2, and the observed cytokines returned to baseline, with the exception of IL-6 and IL1RN or IL1RA, which remained elevated, similar to results observed with MERS (; Figures 3B and 3C).\n",
      "Last, to investigate how the host response to SARS-CoV-2 and IAV affected the respiratory tract, we next performed parallel infections and examined the trachea on day 3. With both infections, we observed very low levels of virus but a robust transcriptional response (Table S3). Gene enrichment analysis of differentially expressed transcripts implicated two populations of immune cell signatures (Figure 3D). The first population included common markers for monocytes and lymphocytes, and the induction of these genes was comparable between SARS-CoV-2 and IAV (Figures 3D and S3C). Intriguingly, unique gene signatures from SARS-CoV-2-infected trachea that were largely absent in response to IAV align with those of progenitor cells from the hematopoietic lineage, suggesting that infection may be inducing hematopoiesis (Figures 3D and S3C). Additional research in this area will be required to ascertain whether this is a contributing factor toward the development of COVID-19.\n",
      "COVID-19 Patients Present Low IFN-I and -III and High Chemokine Signatures\n",
      "Following the characterization of SARS-CoV-2 infection in ferrets, we next sought to correlate these results with natural human infections. To this end, we first compared post-mortem lung samples from COVID-19-positive patients with biopsied healthy lung tissue from uninfected individuals. Transcriptional profiling of these samples, all derived from males older than 60 years (n = 2 for each group), demonstrated ~2,000 differentially expressed genes with enrichment for the innate and humoral responses (Figures 4 A and S4 A). Genes significantly induced in response to SARS-CoV-2 included a subset of ISGs with no IFN-I or IFN-III detected by RNA-seq or semiquantitative PCR (Figure S4B; Table S4). In addition to genes implicated in innate antiviral immunity, SARS-CoV-2 also induced robust levels of chemokines, including CCL2, CCL8, and CCL11 (Figure 4A). Despite the limited number of patients analyzed, these data corroborate our findings in NHBE and ferrets (Figure S4A).\n",
      "Next we wished to further validate our findings with a larger cohort of patients through direct detection of circulating cytokines induced by SARS-CoV-2 infection. To this end, we obtained serum from two cohorts of individuals from the Kaiser Santa Clara testing facility (Santa Clara, CA). These two cohorts tested positive for SARS-CoV-2 by nasopharyngeal swabs or were admitted to the hospital for non-COVID-19-related respiratory issues (n = 24 for each group). During initial analyses, these serum samples consistently tested negative for IFNbeta and the IFNlambda family of IFNs (Figure 4B). Moreover, analyses of cytokines and chemokines quantified in individual serum samples revealed enhancement of generalized inflammation among COVID-19 patients, marked by a significant increase in circulating IL-6, IL1RA, CCL2, CCL8 CXCL2, CXCL8, CXCL9, and CXCL16 levels (Figure 4C). Significant elevation of CXCL9 and CXCL16 (chemoattractants of T or natural killer (NK) cells, respectively), CCL8 and CCL2 (which recruit monocytes and/or macrophages), and CXCL8 (a classic neutrophil chemoattractant) suggest that the presence of these cells may be a primary driver of the signature pathology observed in COVID-19 patients. Although this sample size is not necessarily representative of the whole population of infected COVID-19 patients, our data are consistent with what we observe using our other model systems. Additional sampling will be required to validate these findings.\n",
      "In the present study, we focus on defining the host response to SARS-CoV-2 and other human respiratory viruses in cell lines, primary cell cultures, ferrets, and COVID-19 patients. In general, our data show that the overall transcriptional footprint of SARS-CoV-2 infection was distinct in comparison with other highly pathogenic coronaviruses and common respiratory viruses such as IAV, HPIV3, and RSV. It is noteworthy that, despite a reduced IFN-I and -III response to SARS-CoV-2, we observed a consistent chemokine signature. One exception to this observation is the response to high-MOI infection in A549-ACE2 and Calu-3 cells, where replication was robust and an IFN-I and -III signature could be observed. In both of these examples, cells were infected at a rate to theoretically deliver two functional virions per cell in addition to any defective interfering particles within the virus stock that were not accounted for by plaque assays. Under these conditions, the threshold for PAMP may be achieved prior to the ability of the virus to evade detection through production of a viral antagonist. Alternatively, addition of multiple genomes to a single cell may disrupt the stoichiometry of viral components, which, in turn, may itself generate PAMPs that would not form otherwise. These ideas are supported by the fact that, at a low-MOI infection in A549-ACE2 cells, high levels of replication could also be achieved, but in the absence of IFN-I and -III induction. Taken together, these data suggest that, at low MOIs, the virus is not a strong inducer of the IFN-I and -III system, as opposed to conditions where the MOI is high. These dynamics are also likely to contribute to development of COVID-19 during the course of infection.\n",
      "A recurrent observation in each of our systems is a robust production of cytokines and their subsequent transcriptional response. According to our longitudinal in vivo data, this response starts as early as 3 days after infection and continues beyond clearance of the virus. A recent study analyzing severe versus mild cases of COVID-19 showed that peripherally derived macrophages predominated in the lungs of severe cases. Consistent with this, we found, in all of our systems, significant induction of monocyte-associated chemokines such as CCL2 and CCL8. In addition, our data suggest that neutrophils could also contribute to the disease observed in COVID-19 patients, as demonstrated by CXCL2 and CXCL8 induction. This is consistent with data showing elevated circulating neutrophil levels among COVID-19 patients, which may have prognostic value for identifying individuals at risk for developing severe disease. It is also noteworthy that two of the cytokines uniquely elevated in response to SARS-CoV-2 are IL-6 and IL1RA, suggesting that there might be a parallel between COVID-19 and cytokine release syndrome (CRS), a complication commonly seen following CAR T-cell treatment. Should this be true, drugs such as tocilizumab and anakinra may prove to be beneficial for treatment of COVID-19. Future studies will be needed to address this formally.\n",
      "Like SARS-CoV-2, the clinical manifestation of SARS-CoV-1 has been proposed to stem from a dysregulated immune response in patients and delayed expression of IFN-I. Based on animal models, SARS-CoV-1 has been found to induce a robust cytokine response that generally shows a delay in IFN-I, culminating in improper recruitment of inflammatory monocyte-macrophage populations. This dynamic seems to be in line with what we observed with SARS-CoV-2 because low levels of IFN-I and -III are likely produced in response to infection. Given the moderate viral replication levels observed in vivo, one explanation for the low IFN expression could be that a small subset of cells is refractory to the antagonistic mechanism of SARS-CoV-2, producing sufficient amounts of IFN-I and/or IFN-III to guide immune cell activation and ISG induction.\n",
      "What makes SARS-CoV-2 distinct from other viruses used in this study is the propensity to selectively induce morbidity and mortality in older populations. The physiological basis for this morbidity is believed to be selective death of type II pneumocytes, which results in loss of air exchange and fluid leakage into the lungs. Although it remains to be determined whether the inappropriate inflammatory response to SARS-CoV-2 is responsible for the abnormally high lethality in older populations, it does explain why the virus is generally asymptomatic in young people with healthy and robust immune systems. Given the results here, it is tempting to speculate that an already restricted immune response in the aging population prevents successful inhibition of viral spread at early stages of infection, further exacerbating the morbidity and mortality observed for this age group.\n",
      "Taken together, the data presented here suggest that the response to SARS-CoV-2 is imbalanced with regard to controlling virus replication versus activation of the adaptive immune response. Given this dynamic, treatments for COVID-19 have less to do with the IFN response and more to do with controlling inflammation. Because our data suggest that numerous chemokines and ILs are elevated in COVID-19 patients, future efforts should focus on U.S. Food and Drug Administration (FDA)-approved drugs that can be rapidly deployed and have immunomodulating properties.\n",
      "Key Resources Table\n",
      "Resource Availability\n",
      "Lead Contact\n",
      "Further information and requests for resources and reagents should be directed to and will be fulfilled by the Lead Contact, Benjamin tenOever (benjamin.tenoever@mssm.edu).\n",
      "Materials Availability\n",
      "All materials and reagents will be made available upon instalment of a material transfer agreement (MTA).\n",
      "Data and Code Availability\n",
      "The raw sequencing datasets generated during this study are available on the NCBI Gene Expression Omnibus (GEO) server under the accession number GSE147507. The original sequencing datasets for SARS-CoV-1 and MERS-CoV infections can be found on the NCBI Gene Expression Omnibus (GEO) server under the accession number GSE56192.\n",
      "Experimental Model and Subject Availability\n",
      "Cell cultures and primary cells\n",
      "Human adenocarcinomic alveolar basal epithelial (A549) cells (ATCC, CCL-185), human adenocarcinomic lung epithelial (Calu-3) cells (ATCC, HTB-55), human HEp-2 cells (ATCC, CCL-23), Madin-Darby Canine Kidney (MDCK) cells (ATCC, CCL-34), MDCK-NS1 cells and African green monkey kidney epithelial Vero E6 cells (ATCC, CRL-1586) were maintained at 37 C and 5% CO2 in Dulbecco's Modified Eagle Medium (DMEM, GIBCO) supplemented with 10% Fetal Bovine Serum (FBS, Corning). Undifferentiated normal human bronchial epithelial (NHBE) cells (Lonza, CC-2540 Lot# 580580) were isolated from a 79-year-old Caucasian female and were maintained in bronchial epithelial growth media (Lonza, CC-3171) supplemented with BEGM SingleQuots as per the manufacturer's instructions (Lonza, CC-4175) at 37 C and 5% CO2.\n",
      "Animal studies\n",
      "Outbred 4-month old castrated male Fitch ferrets were purchased from Triple F. Farm (North Rose, NY). All animals were confirmed to be seronegative for circulating influenza A (H1N1) viruses, influenza A (H3N2) viruses and influenza B viruses prior to purchase. Ferrets were housed in cages in the enhanced BSL-3 facility of the Emerging Pathogens Institute at the Icahn School of Medicine at Mount Sinai. All animal experiments were performed according to protocols approved by the Institutional Animal Care and Use Committee (IACUC) and Institutional Biosafety Committee of the Icahn School of Medicine at Mount Sinai (NY, USA). Ferrets were randomly assigned to the different experimental groups.\n",
      "Human studies\n",
      "For RNA analysis, two COVID19 human subjects were deceased upon tissue acquisition and were provided from Weill Cornell Medicine as fixed samples. For semiquantitative PCR analyses, two additional lung samples were derived post-mortem from males over 60 years of age. The uninfected human lung samples (n = 2) were obtained post surgery through the Mount Sinai Institutional Biorepository and Molecular Pathology Shared Resource Facility (SRF) in the Department of Pathology. The Biorepository operates under a Mount Sinai Institutional Review Board (IRB) approved protocol and follows guidelines set by HIPAA. Sera were obtained from the Kaiser Santa Clara testing facility (Santa Clara, CA). Sera were from subjects with a CoV PCR+ nasopharyngeal swab (n = 24) or from subjects who were not being tested for CoV infection (n = 24). The study was reviewed and approved by the Stanford University institutional review board (PI TTW). Experiments using samples from human subjects were conducted in accordance with local regulations and with the approval of the institutional review board at the Icahn School of Medicine at Mount Sinai under protocol HS#12-00145.\n",
      "Viruses\n",
      "Influenza A/Puerto Rico/8/1934 (H1N1) virus (NCBI:txid183764), influenza A/California/04/2009 (pH1N1) virus and influenza A/Texas/71/2017 (H3N2) virus were grown in MDCK cells. Influenza A/Puerto Rico/8/1934 (H1N1) virus lacking the NS1 gene (IAVDeltaNS1,) was grown in MDCK-NS1 cells. Influenza viruses were grown in EMEM supplemented with 0.35% bovine serum albumin (BSA, MP Biomedicals), 4 mM L-glutamine, 10 mM HEPES, 0.15% NaHCO3 and 1 mug/ml TPCK-trypsin (Sigma-Aldrich). Infectious titers of influenza A viruses were determined by plaque assay in MDCK or MDCK-NS1 cells, accordingly. Recombinant GFP-expressing human respiratory syncytial virus (RSV), strain A2 (rgRSV[224]) was generously provided by Dr. M. Peeples (OSU) and was described previously. rgRSV[224] was grown in Hep-2 cells in in DMEM supplemented with 2% FBS, 4.5 g/L D-glucose and 4 mM L-glutamine. SARS-related coronavirus 2 (SARS-CoV-2), Isolate USA-WA1/2020 (NR-52281) was deposited by the Center for Disease Control and Prevention and obtained through BEI Resources, NIAID, NIH. SARS-CoV-2 was propagated in Vero E6 cells in DMEM supplemented with 2% FBS, 4.5 g/L D-glucose, 4 mM L-glutamine, 10 mM Non-Essential Amino Acids, 1 mM Sodium Pyruvate and 10 mM HEPES. Infectious titers of SARS-CoV-2 were determined by plaque assay in Vero E6 cells in Minimum Essential Media supplemented with 2% FBS, 4 mM L-glutamine, 0.2% BSA, 10 mM HEPES and 0.12% NaHCO3 and 0.7% agar. eGFP/ GLuc-expressing human parainfluenza virus 3, strain JS (rHPIV3JS-GlucP2AeGFP) was described previously. HPIV3-eGFP/GLuc was grown in HeLa cells at 32 C in DMEM supplemented with 10% FBS and 1ug/mL TPCK-trypsin (Millipore Sigma, Burlington MA, USA) and titers in Vero E6 cells as previously described. All work involving live SARS-CoV-2 was performed in the CDC/USDA-approved BSL-3 facility of the Icahn School of Medicine at Mount Sinai in accordance with institutional biosafety requirements.\n",
      "Method Details\n",
      "RNA-Seq of viral infections\n",
      "Approximately 5 x 105 A549 or Calu-3 cells were infected with influenza A/Puerto Rico/8/1934 (H1N1) virus (IAV), human respiratory syncytial virus (RSV), human parainfluenza virus 3 (HPIV3) or SARS-CoV-2 as indicated. Infections with IAV were performed at a multiplicity of infection of 5 for 9 h in DMEM supplemented with 0.3% BSA, 4.5 g/L D-glucose, 4 mM L-glutamine and 1 mug/ml TPCK-trypsin. Infections with RSV and HPIV3 were performed at an MOI of 2 for 24 h in DMEM supplemented with 2% FBS, 4.5 g/L D-glucose and 4 mM L-glutamine. Infections with SARS-CoV-2 were performed at an MOI of 0.2 or 2 for 24 h in DMEM supplemented with 2% FBS, 4.5 g/L D-glucose, 4 mM L-glutamine, 10 mM Non-Essential Amino Acids, 1 mM Sodium Pyruvate and 10 mM HEPES. Approximately 5 x 105 NHBE cells were infected with either SARS-CoV-2 at an MOI of 2 for 24 h or influenza A/Puerto Rico/8/1934 (H1N1) virus or influenza A/Puerto Rico/8/1934 (H1N1) virus lacking the NS1 gene at an MOI of 3 for 12 h in bronchial epithelial growth media supplemented with BEGM SingleQuots. As a comparison to viral infection, NHBE cells were treated with 100 units / mL of IFNbeta for 4 - 12 h. Total RNA from infected and mock infected cells was lysed in TRIzol (Invitrogen) and extracted and DNase I treated using Direct-zol RNA Miniprep kit (Zymo Research) according to the manufacturer's instructions. RNA-seq libraries of polyadenylated RNA were prepared using the TruSeq RNA Library Prep Kit v2 (Illumina) or TruSeq Stranded mRNA Library Prep Kit (Illumina) according to the manufacturer's instructions. Sequencing libraries were sequenced on an Illumina NextSeq 500 platform.\n",
      "Adenovector transductions\n",
      "Approximately 5 x 105 A549 cells were transduced with Adenovectors purchased from Vector Biolabs at an MOI of 500 to induce expression of mCherry (Ad-mCherry) and human ACE2 (Ad-GFP-h-ACE2). 48 h post-transduction, efficient gene expression of delivered fluorescent proteins was confirmed by fluorescent microscopy using an EVOS M5000 Imaging System.\n",
      "Drug treatments\n",
      "Approximately 5 x 105 Vero E6 cells were infected with SARS-CoV-2 at an MOI of 0.05 in DMEM supplemented with 2% FBS, 4.5 g/L D-glucose, 4 mM L-glutamine, 10 mM Non-Essential Amino Acids, 1 mM Sodium Pyruvate and 10 mM HEPES. Vero E6 cells were treated with 100 units of universal Type-I IFNB 2 h post-infection. NHBE cells were treated with 100 units of human IFNbeta as indicated. Cells were harvested for RNA and protein analysis 24 hpi as described below. Approximately 2.5 x 105 A549 cells transduced with an ACE2 Adenovector were pre-treated with 500 nM Ruxolitinib or DMSO control for 1 h in infection media before infection with SARS-CoV-2 at an MOI of 2 for 24 h. Cells were harvested for protein analysis as described below.\n",
      "Western blot\n",
      "Protein was extracted from cells in Radioimmunoprecipitation assay (RIPA) lysis buffer containing 1X cOmplete Protease Inhibitor Cocktail (Roche) and 1X Phenylmethylsulfonyl fluoride (Sigma Aldrich) prior to safe removal from the BSL-3 facility. Samples were analyzed by SDS-PAGE and transferred onto nitrocellulose membranes. Proteins were detected using mouse monoclonal anti-Actin (Thermo Scientific, MS-2295), rabbit monoclonal anti-GAPDH (Cell Signaling, 2118), rabbit monoclonal anti-ACE2 (Abcam, ab239924), rabbit monoclonal phospho-TBK1(Ser172) (Cell Signaling, D52C2), mouse monoclonal STAT1 (BD Biosciences, 558537), rabbit polyclonal MX1 (Abcam, ab207414), as well as mouse monoclonal anti-SARS-CoV-2 Nucleocapsid [1C7C7] and Spike [2B3E5] protein (a kind gift by Dr. T. Moran, Center for Therapeutic Antibody Discovery at the Icahn School of Medicine at Mount Sinai). Primary antibodies were detected using Fluorophore-conjugated secondary goat anti-mouse (IRDye 680RD, 926-68070; IRDye 800CW, 926-32210) and goat anti-rabbit (IRDye 680RD, 926-68071; IRDye 800CW, 926-32211) antibodies. Fluorescent signal was detected using a LI-COR Odyssey CLx imaging system and analyzed by Image Studio software (LI-COR).\n",
      "Quantitative real-time and semiquantitative PCR analysis\n",
      "RNA was reverse transcribed into cDNA using oligo d(T) primers using SuperScript II Reverse Transcriptase (Thermo Fisher). Quantitative real-time PCR was performed on a LightCycler 480 Instrument II (Roche) using KAPA SYBR FAST qPCR Master Mix Kit (Kapa Biosystems) and primers specific for SARS-CoV-2 E and nsp14 transcripts as described previously as well as human IFNB and alpha-Tubulin transcripts (Table S5). Delta-delta-cycle threshold (DeltaDeltaCT) was determined relative to mock infected samples. Viral RNA levels were normalized to alpha-Tubulin and depicted as fold change over mock infected samples. Error bars indicate the standard deviation from three biological replicates. Semiquantitative PCR analysis of cDNA was performed using GoTaq Green MasterMix (Promega) and analyzed by 1.5% agarose gel electrophoresis in TAE buffer.\n",
      "Cytokine and Chemokine Protein Analysis\n",
      "Serum levels of IFNbeta were measured using the VeriKine-HS human IFN-beta serum ELISA kit (PBL Interferon Source, NJ). Serum levels of IFNlambda were measured using the IFNlambda ELISA kit (PBL Interferon Source, NJ). The following cytokines/chemokines were evaluated using multiplex ELISA: CCL2/monocyte chemoattractant protein (MCP-1), CCL8/MCP-2, CXCL8/interleukin 8 (IL-8), CXCL9/monokine induced by IFN-gamma (MIG), CXCL16, interleukin 1beta (IL-1beta), interleukin 1 receptor antagonist (IL-1RA), interleukin 4, and interleukin 6 (IL-6). All antibodies and cytokine standards were purchased as antibody pairs from R&D Systems (Minneapolis, Minnesota) or Peprotech (Rocky Hill, New Jersey). Individual magnetic Luminex bead sets (Luminex Corp, CA) were coupled to cytokine-specific capture antibodies according to the manufacturer's recommendations. The assays were read on a MAGPIX platform. The median fluorescence intensity of these beads was recorded for each bead and was used for analysis using a custom R script and a 5P regression algorithm.\n",
      "Ferret infections\n",
      "All procedures are described in our previous study. Ferrets were randomly assigned to the different treatment groups (naive, n = 2; SARS-CoV-2 infection, n = 6; influenza A virus (pH1N1) infection, n = 2; influenza A virus (H3N2) infection, n = 2). Both influenza A virus and SARS-CoV-2 infections of ferrets were performed simultaneously in the BSL-3 facility. For influenza A virus infections, all naive ferrets were infected intranasally with 105 PFU of influenza A/California/04/2009 (pH1N1) virus or 106 PFU of influenza A/Texas/71/2017 (H3N2) virus. Nasal washes were collected from anesthetized ferrets challenged with influenza A/California/04/2009 (pH1N1) virus on day 7 post infection and preserved at -80 C. Trachea were collected from euthanized ferrets challenged with influenza A/Texas/71/2017 (H3N2) virus on day 3 post infection and preserved at -80 C. For SARS-CoV-2 virus infections, all naive ferrets were infected with 5 x 104 PFU of SARS-CoV-2 isolate USA-WA1/2020. Nasal washes were collected from anesthetized ferrets on days 1, 3, 7 and 14 post-infection and trachea were collected from euthanized ferrets on day 3 post infection and preserved at -80 C. At the end of the study, anesthetized ferrets were euthanized by exsanguination followed by intracardiac injection of euthanasia solution (Sodium Pentobarbital). Total RNA from nasal washes and trachea was extracted using TRIzol (Invitrogen) and analyzed by RNA-Seq as described above.\n",
      "Quantification and Statistical Analysis\n",
      "Bioinformatic analyses\n",
      "Raw reads were aligned to the human genome (hg19) using the RNA-Seq Aligment App on Basespace (Illumina, CA), following differential expression analysis using DESeq2. To diminish the noise introduced by variables inherent to the use of different cell types and systems, our differential expression analyses were always performed by matching each experimental condition with a corresponding mock treated sample that counted for the cell type, collection time, concurrent animal controls, etc. The raw sequencing data (fastq files) for the SARS-CoV-1 and MERS infections were downloaded from GEO (GSE56192, including their corresponding mock-treated controls) and processed in the same way as the rest of our experimental conditions. In order to capture the whole breadth of the response to IFNbeta treatment we pooled samples from 4, 6 and 12 hr post treatment and compare them together to mock treated cells. Differentially expressed genes (DEGs) were characterized for each sample ( L2FC  > 1, p-adjusted-value < 0.05) and were used as query to search for enriched biological processes (Gene ontology BP) and network analysis of protein interactions using STRING. Heatmaps of gene expression levels were constructing using heatmap.2 from the gplot package in R (https://cran.r-project.org/web/packages/gplots/index.html). Sparse principal component analysis (sPCA) was performed on Log2(Fold Change) values using SPC from the PMA package in R. Volcano plots, dot plots, scatterplots and linear regressions were constructed using ggplot2 and custom scripts in R. Heatmap of Type-I IFN responses was constructed on DEGs belonging to the following GO annotations: GO:0035457, GO:0035458, GO:0035455, GO:0035456, GO:0034340. Alignments to viral genomes was performed using bowtie2. Cell lineage profiling from SARS-CoV-2 unique gene signatures was generated using the Immunological Genome Project (https://www.immgen.org/). The genomes used for this study were: SARS-CoV-2 (GenBank: NC_045512.2), SARS-CoV-1 (GenBank: NC_004718.3), MERS-CoV (GenBank: NC_038294.1), HPIV3 (GenBank: Z11575.1), RSV (GenBank: NC_001803.1), IAV PR8 (GenBank: AF389115.1, AF389116.1, AF389117.1, AF389118.1, AF389119.1, AF389120.1, AF389121.1, AF389122.1) and IAV A/California/VRDL6/2010(H1N1) (GenBank: CY064994, CY064993, CY064992, CY064987, CY064990, CY064989, CY064988, CY064991). All RNA-Seq data performed in this paper can be found on the NCBI Gene Expression Omnibus (GEO) under accession number GSE147507. All non-RNA-seq statistical analyses were performed as indicted in figure legends using prism 8 (GraphPad Software, San Diego, California USA; https://www.graphpad.com/).\n",
      "\n"
     ]
    }
   ],
   "source": [
    "# An example of how our extractor works\n",
    "title, abstract, text, ids = get_text(data_pmc[1554])\n",
    "print(title)\n",
    "print(text)"
   ]
  },
  {
   "cell_type": "markdown",
   "metadata": {
    "colab_type": "text",
    "id": "GBIDefpbfI3c"
   },
   "source": [
    "Here we create a dataset with the text. This is used later to summarize"
   ]
  },
  {
   "cell_type": "code",
   "execution_count": 89,
   "metadata": {
    "colab": {},
    "colab_type": "code",
    "executionInfo": {
     "elapsed": 888,
     "status": "ok",
     "timestamp": 1592678600955,
     "user": {
      "displayName": "Edwin Ricardo Mahecha Parra",
      "photoUrl": "https://lh3.googleusercontent.com/a-/AOh14GjKs4KPyNQqmpmC7pcq3zq3nJZbebS0dO1DQBoJVQ=s64",
      "userId": "01257253051927415446"
     },
     "user_tz": 300
    },
    "id": "J9BgcysifTY1"
   },
   "outputs": [],
   "source": [
    "import pandas as pd"
   ]
  },
  {
   "cell_type": "code",
   "execution_count": 115,
   "metadata": {
    "colab": {},
    "colab_type": "code",
    "executionInfo": {
     "elapsed": 6669,
     "status": "ok",
     "timestamp": 1592697231062,
     "user": {
      "displayName": "Edwin Ricardo Mahecha Parra",
      "photoUrl": "https://lh3.googleusercontent.com/a-/AOh14GjKs4KPyNQqmpmC7pcq3zq3nJZbebS0dO1DQBoJVQ=s64",
      "userId": "01257253051927415446"
     },
     "user_tz": 300
    },
    "id": "IW_1eawafIcP"
   },
   "outputs": [],
   "source": [
    "def get_dataframe(filename = None, obj = None):\n",
    "    '''\n",
    "    filename: file to load/save the data\n",
    "    obj: array of objects from where we extract the data. If None we load csv from filename\n",
    "    '''\n",
    "    if obj == None:\n",
    "        df = pd.read_csv(path + filename)\n",
    "        return df\n",
    "    else:\n",
    "        data = {'pmcid': [], 'pmid': [], 'title': [], 'abstract': [], 'text': []}\n",
    "        for doc in obj:\n",
    "            title, abstract, text, ids = get_text(doc)\n",
    "            data['pmid'].append(ids[0])\n",
    "            data['pmcid'].append(ids[1])\n",
    "            data['title'].append(title)\n",
    "            data['abstract'].append(abstract)\n",
    "            data['text'].append(text)\n",
    "        df = pd.DataFrame(data)\n",
    "        df.to_csv(path + filename, index_label=False)\n",
    "        return df\n",
    "df = get_dataframe(filename = 'preprocessed.csv', obj=data_pmc)"
   ]
  },
  {
   "cell_type": "code",
   "execution_count": 96,
   "metadata": {
    "colab": {
     "base_uri": "https://localhost:8080/",
     "height": 293
    },
    "colab_type": "code",
    "executionInfo": {
     "elapsed": 672,
     "status": "ok",
     "timestamp": 1592679034126,
     "user": {
      "displayName": "Edwin Ricardo Mahecha Parra",
      "photoUrl": "https://lh3.googleusercontent.com/a-/AOh14GjKs4KPyNQqmpmC7pcq3zq3nJZbebS0dO1DQBoJVQ=s64",
      "userId": "01257253051927415446"
     },
     "user_tz": 300
    },
    "id": "_QmczfFBhC-o",
    "outputId": "9ce90af0-48b2-478f-eaad-10d8efe8f055"
   },
   "outputs": [
    {
     "data": {
      "text/html": [
       "<div>\n",
       "<style scoped>\n",
       "    .dataframe tbody tr th:only-of-type {\n",
       "        vertical-align: middle;\n",
       "    }\n",
       "\n",
       "    .dataframe tbody tr th {\n",
       "        vertical-align: top;\n",
       "    }\n",
       "\n",
       "    .dataframe thead th {\n",
       "        text-align: right;\n",
       "    }\n",
       "</style>\n",
       "<table border=\"1\" class=\"dataframe\">\n",
       "  <thead>\n",
       "    <tr style=\"text-align: right;\">\n",
       "      <th></th>\n",
       "      <th>pmcid</th>\n",
       "      <th>pmid</th>\n",
       "      <th>title</th>\n",
       "      <th>abstract</th>\n",
       "      <th>text</th>\n",
       "    </tr>\n",
       "  </thead>\n",
       "  <tbody>\n",
       "    <tr>\n",
       "      <th>0</th>\n",
       "      <td>PMC7118592</td>\n",
       "      <td>32292259</td>\n",
       "      <td>Understanding of Guidance for acupuncture and ...</td>\n",
       "      <td>At present, the situation of global fight agai...</td>\n",
       "      <td>Novel coronavirus pneumonia was renamed by Wor...</td>\n",
       "    </tr>\n",
       "    <tr>\n",
       "      <th>1</th>\n",
       "      <td>PMC7142670</td>\n",
       "      <td>32340751</td>\n",
       "      <td>Manejo de la epidemia por coronavirus SARS-CoV...</td>\n",
       "      <td>RESUMEN\\n\\nLa epidemia de SARS-CoV-2 represent...</td>\n",
       "      <td></td>\n",
       "    </tr>\n",
       "    <tr>\n",
       "      <th>2</th>\n",
       "      <td>PMC7272901</td>\n",
       "      <td>32396670</td>\n",
       "      <td>Symptom Criteria for COVID-19 Testing of Heath...</td>\n",
       "      <td>Abstract\\n\\nBackground\\n\\nLimitations on testi...</td>\n",
       "      <td></td>\n",
       "    </tr>\n",
       "    <tr>\n",
       "      <th>3</th>\n",
       "      <td>PMC7250076</td>\n",
       "      <td>32470603</td>\n",
       "      <td>Early network properties of the COVID-19 pande...</td>\n",
       "      <td>Highlights\\n\\nClassic epidemiological control ...</td>\n",
       "      <td>The challenges associated with the COVID-19 pa...</td>\n",
       "    </tr>\n",
       "    <tr>\n",
       "      <th>4</th>\n",
       "      <td>PMC7146697</td>\n",
       "      <td>32234312</td>\n",
       "      <td>COVID-19 in endoscopy: Time to do more?</td>\n",
       "      <td>Disclosure\\n\\nReferences\\n\\n</td>\n",
       "      <td>To the Editor:\\n\\nWe have read with great inte...</td>\n",
       "    </tr>\n",
       "  </tbody>\n",
       "</table>\n",
       "</div>"
      ],
      "text/plain": [
       "        pmcid  ...                                               text\n",
       "0  PMC7118592  ...  Novel coronavirus pneumonia was renamed by Wor...\n",
       "1  PMC7142670  ...                                                   \n",
       "2  PMC7272901  ...                                                   \n",
       "3  PMC7250076  ...  The challenges associated with the COVID-19 pa...\n",
       "4  PMC7146697  ...  To the Editor:\\n\\nWe have read with great inte...\n",
       "\n",
       "[5 rows x 5 columns]"
      ]
     },
     "execution_count": 96,
     "metadata": {
      "tags": []
     },
     "output_type": "execute_result"
    }
   ],
   "source": [
    "df.head()"
   ]
  },
  {
   "cell_type": "code",
   "execution_count": null,
   "metadata": {
    "colab": {},
    "colab_type": "code",
    "id": "bS15wVjkc6hs"
   },
   "outputs": [],
   "source": []
  }
 ],
 "metadata": {
  "colab": {
   "collapsed_sections": [],
   "name": "Data Filtering.ipynb",
   "provenance": []
  },
  "kernelspec": {
   "display_name": "Python 3",
   "language": "python",
   "name": "python3"
  },
  "language_info": {
   "codemirror_mode": {
    "name": "ipython",
    "version": 3
   },
   "file_extension": ".py",
   "mimetype": "text/x-python",
   "name": "python",
   "nbconvert_exporter": "python",
   "pygments_lexer": "ipython3",
   "version": "3.7.7"
  }
 },
 "nbformat": 4,
 "nbformat_minor": 4
}
